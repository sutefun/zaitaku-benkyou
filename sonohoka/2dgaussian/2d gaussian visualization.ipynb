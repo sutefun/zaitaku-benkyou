{
 "cells": [
  {
   "cell_type": "code",
   "execution_count": 27,
   "metadata": {},
   "outputs": [],
   "source": [
    "from ipywidgets import interact, interactive, fixed, interact_manual\n",
    "import ipywidgets as widgets\n",
    "import numpy as np\n",
    "\n",
    "from matplotlib import cm\n",
    "import matplotlib.pyplot as plt\n",
    "from mpl_toolkits.mplot3d import Axes3D \n",
    "%matplotlib widget\n",
    "# %matplotlib inline"
   ]
  },
  {
   "cell_type": "code",
   "execution_count": 11,
   "metadata": {},
   "outputs": [
    {
     "data": {
      "text/plain": [
       "[<matplotlib.lines.Line2D at 0x1ea32c9fc08>]"
      ]
     },
     "execution_count": 11,
     "metadata": {},
     "output_type": "execute_result"
    },
    {
     "data": {
      "image/png": "[encoded data removed]",
      "text/plain": [
       "<Figure size 432x288 with 1 Axes>"
      ]
     },
     "metadata": {
      "needs_background": "light"
     },
     "output_type": "display_data"
    }
   ],
   "source": [
    "x = np.arange(-6, 6, 0.1) # x from -6 to 6 in steps of 0.1\n",
    "y = 1 / np.sqrt(2 * np.pi) * np.exp( - (x-2)**2 / 2.)\n",
    "plt.plot(x, y)"
   ]
  },
  {
   "cell_type": "code",
   "execution_count": 38,
   "metadata": {},
   "outputs": [
    {
     "data": {
      "application/vnd.jupyter.widget-view+json": {
       "model_id": "24a092aca6c8447cbd2b8d17971d6380",
       "version_major": 2,
       "version_minor": 0
      },
      "text/plain": [
       "Canvas(toolbar=Toolbar(toolitems=[('Home', 'Reset original view', 'home', 'home'), ('Back', 'Back to previous …"
      ]
     },
     "metadata": {},
     "output_type": "display_data"
    },
    {
     "data": {
      "application/vnd.jupyter.widget-view+json": {
       "model_id": "58a82f454f1845dab7fcf6ce673e2127",
       "version_major": 2,
       "version_minor": 0
      },
      "text/plain": [
       "interactive(children=(IntSlider(value=50, description='x', max=94, min=6), IntSlider(value=50, description='y'…"
      ]
     },
     "metadata": {},
     "output_type": "display_data"
    }
   ],
   "source": [
    "# x = np.linspace(0, 2 * np.pi)\n",
    "fig2 = plt.figure( figsize= (5,1) )\n",
    "ax1 = fig2.add_subplot(2, 1, 1)\n",
    "\n",
    "ax2 = fig2.add_subplot(2 , 1, 2 , projection = \"3d\" )\n",
    "# line, = ax.plot(x, np.sin(x))\n",
    "\n",
    "\n",
    "x_max = y_max = 100\n",
    "x_min = y_min = 0\n",
    "xx = np.arange( x_min , x_max )\n",
    "yy = np.arange( y_min , y_max )\n",
    "\n",
    "ax1.set_ylim( 0 , 0.5 )\n",
    "ax1.set_title( \"gaussian x coordinate view\" )\n",
    "ax1.set_xlabel( \"$X$\" )\n",
    "line1 , = ax1.plot( xx , np.zeros(x_max-x_min) )\n",
    "\n",
    "# ax2.set_xlim( x_min , x_max )\n",
    "# ax2.set_ylim( y_min , y_max )\n",
    "# ax2.set_aspect( \"equal\" )\n",
    "\n",
    "\n",
    "x2d, y2d = np.meshgrid(xx, yy)\n",
    "\n",
    "sigma = 1\n",
    "\n",
    "@interact(  )\n",
    "def test( x = widgets.IntSlider( min = x_min+6 , max = x_max-6 , value = (x_max-x_min)/2 ) \n",
    "         , y = widgets.IntSlider( min = y_min+6 , max = y_max-6 , value = (y_max-y_min)/2 )\n",
    "        ) :\n",
    "    \n",
    "    out1 = 1 / np.sqrt(2 * np.pi) * np.exp(- (xx-x)** 2 / 2.)\n",
    "    line1.set_ydata( out1 )\n",
    "    \n",
    "    kernel_2d = np.exp(-( (x2d-x)**2 + (y2d-y)** 2) / (2 * sigma ** 2))\n",
    "    kernel_2d = kernel_2d / (2 * np.pi * sigma ** 2) # unit integral\n",
    "    ax2.clear()\n",
    "    ax2.plot_surface(x2d, y2d, kernel_2d ,\n",
    "#                        , rstride=3, cstride=3, linewidth=1, antialiased=True,\n",
    "#                         cmap=cm.viridis\n",
    "                      )\n",
    "    ax2.set_xlabel( \"$X$\" )\n",
    "    ax2.set_ylabel( \"$Y$\" )\n",
    "    plt.show( kernel_2d )\n",
    "    \n"
   ]
  },
  {
   "cell_type": "code",
   "execution_count": null,
   "metadata": {},
   "outputs": [],
   "source": []
  }
 ],
 "metadata": {
  "kernelspec": {
   "display_name": "Python 3",
   "language": "python",
   "name": "python3"
  },
  "language_info": {
   "codemirror_mode": {
    "name": "ipython",
    "version": 3
   },
   "file_extension": ".py",
   "mimetype": "text/x-python",
   "name": "python",
   "nbconvert_exporter": "python",
   "pygments_lexer": "ipython3",
   "version": "3.7.6"
  }
 },
 "nbformat": 4,
 "nbformat_minor": 4
}
